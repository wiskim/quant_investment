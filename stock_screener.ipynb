{
 "cells": [
  {
   "cell_type": "code",
   "execution_count": 1,
   "metadata": {},
   "outputs": [],
   "source": [
    "import pandas as pd\n",
    "import numpy as np\n",
    "import matplotlib.pyplot as plt\n",
    "import seaborn as sns\n",
    "import sqlite3\n",
    "import datetime\n",
    "sns.set()"
   ]
  },
  {
   "cell_type": "code",
   "execution_count": 19,
   "metadata": {},
   "outputs": [],
   "source": [
    "def select_fs_5y(stock_cd=[], account_nm=[], year=None, ci_div='IND'):\n",
    "    if year is None:\n",
    "        year = int(datetime.date.today().year)\n",
    "    year_list = ','.join(str(x) for x in range(year-4, year+1))\n",
    "    sql = \"SELECT * FROM kor_fs WHERE year IN (\" + year_list + \")\"\n",
    "    if not stock_cd:\n",
    "        pass\n",
    "    elif type(stock_cd) != list:\n",
    "        raise TypeError('종목코드는 리스트 형태로 입력하여야합니다.')\n",
    "    else:\n",
    "        stock_cd_list = ','.join(\"'\" + str(x) + \"'\" for x in stock_cd)\n",
    "        sql = sql + \" AND stock_cd IN (\" + stock_cd_list + \")\"\n",
    "    if not account_nm:\n",
    "        pass\n",
    "    elif type(account_nm) != list:\n",
    "        raise TypeError('계정과목명은 리스트 형태로 입력하여야합니다.')\n",
    "    else:\n",
    "        account_nm_list = ','.join(\"'\" + str(x) + \"'\" for x in account_nm)\n",
    "        sql = sql + \" AND account_nm IN (\" + account_nm_list + \")\"\n",
    "    sql = sql + \" AND ci_div = '\" + ci_div + \"'\"\n",
    "    con = sqlite3.connect('./data/kor_stock.db')\n",
    "    kor_fs = pd.read_sql(sql, con)\n",
    "    con.close()\n",
    "    return kor_fs\n",
    "\n",
    "def roa5y_screener(year):\n",
    "    kor_fs = select_fs_5y(year=year, account_nm=['당기순이익', '총자산'])\n",
    "    kor_fs = kor_fs.pivot_table(index=['stock_cd', 'year'], columns='account_nm', values='fs_value')\n",
    "    kor_fs['roa'] = kor_fs.당기순이익 / kor_fs.총자산\n",
    "    kor_fs['roa'] = np.round(kor_fs['roa'], 4)\n",
    "    kor_fs['roa'] = np.where(kor_fs.roa<=-1, np.nan, kor_fs.roa)    # roa가 (-)100% 이하인 경우 기하평균수익률 계산시 오류가 발생하므로 NA로 마스킹\n",
    "    kor_fs = kor_fs.reset_index()\n",
    "    kor_fs = kor_fs.pivot_table(index='stock_cd', columns='year', values='roa')\n",
    "    kor_fs = kor_fs.dropna()    # 5년간 roa가 정상적으로 산출된 종목만 필터링\n",
    "    kor_fs = kor_fs + 1\n",
    "    kor_fs['roa5y'] = kor_fs.product(axis=1, skipna=True) ** (1 / kor_fs.count(axis=1))\n",
    "    kor_fs['roa5y'] = np.round(kor_fs.roa5y, 4)\n",
    "    kor_fs = kor_fs - 1\n",
    "    kor_fs = kor_fs.sort_values('roa5y', ascending=False)\n",
    "    kor_fs = kor_fs.reset_index()\n",
    "    return kor_fs\n",
    "\n",
    "def roic5y_screener(year):\n",
    "    kor_fs = select_fs_5y(year=year, account_nm=['*총차입부채', '총자본', '현금및현금성자산', '*총금융자산', '투자부동산', '영업이익'])\n",
    "    kor_fs = kor_fs.pivot_table(index=['stock_cd', 'year'], columns='account_nm', values='fs_value')\n",
    "    kor_fs['ic'] = kor_fs['*총차입부채'] + kor_fs['총자본'] - kor_fs['현금및현금성자산'] - kor_fs['*총금융자산'] - kor_fs['투자부동산']\n",
    "    kor_fs['ic'] = np.where(kor_fs.ic<=0, np.nan, kor_fs.ic)     #투하자본이 0이하인 종목은 아웃라이어로 보아 NA로 마스킹\n",
    "    kor_fs['roic'] = kor_fs.영업이익 / kor_fs.ic\n",
    "    kor_fs['roic'] = np.round(kor_fs.roic, 4)\n",
    "    kor_fs['roic'] = np.where(kor_fs.roic<=-1, np.nan, kor_fs.roic)     # roic가 (-)100% 이하인 경우 기하평균수익률 계산시 오류가 발생하므로 NA로 마스킹\n",
    "    kor_fs = kor_fs.reset_index()   # 5년간 roic가 정상적으로 산출된 종목만 필터링\n",
    "    kor_fs = kor_fs.pivot_table(index='stock_cd', columns='year', values='roic')\n",
    "    kor_fs = kor_fs.dropna()\n",
    "    kor_fs = kor_fs + 1\n",
    "    kor_fs['roic5y'] = kor_fs.product(axis=1, skipna=True) ** (1 / kor_fs.count(axis=1))\n",
    "    kor_fs['roic5y'] = np.round(kor_fs.roic5y, 4)\n",
    "    kor_fs = kor_fs - 1\n",
    "    kor_fs = kor_fs.sort_values('roic5y', ascending=False)\n",
    "    kor_fs = kor_fs.reset_index()\n",
    "    return kor_fs\n",
    "\n",
    "def listed_stock_filter_5y(year):\n",
    "    con = sqlite3.connect('./data/kor_stock.db')\n",
    "    sql = \"SELECT * FROM kor_ticker WHERE fn_sec_nm != '금융'\"  #금융회사 제외\n",
    "    kor_ticker = pd.read_sql(sql, con)\n",
    "    con.close()\n",
    "    kor_ticker.listed_day = pd.to_datetime(kor_ticker.listed_day)\n",
    "    kor_ticker.unlisted_day = pd.to_datetime(kor_ticker.unlisted_day)\n",
    "    kor_ticker = kor_ticker[(kor_ticker.listed_day < pd.to_datetime(str(year-4)+'-01-01')) & \n",
    "                            ((kor_ticker.unlisted_day.isnull()) | \n",
    "                             (kor_ticker.unlisted_day > pd.to_datetime(str(year+1)+'-06-30')))]\n",
    "    kor_ticker = kor_ticker[['stock_cd']]\n",
    "    return kor_ticker"
   ]
  },
  {
   "cell_type": "code",
   "execution_count": 20,
   "metadata": {},
   "outputs": [
    {
     "output_type": "execute_result",
     "data": {
      "text/plain": "     stock_cd    2006    2007    2008    2009    2010   roa5y\n2     A035420  0.2766  0.3454  0.3622  0.3232  0.2790  0.3168\n507   A072870  0.1845  0.2244  0.2436  0.2396  0.1763  0.2134\n213   A002960  0.1499  0.2100  0.1638  0.3205  0.2282  0.2130\n998   A032960  0.1746  0.1851  0.1479  0.2600  0.1771  0.1884\n16    A033780  0.1771  0.1662  0.1841  0.1556  0.1772  0.1720\n325   A018120  0.2041  0.1974  0.1807  0.1611  0.1189  0.1720\n85    A058470  0.2113  0.1908  0.1594  0.1117  0.1721  0.1686\n19    A010130  0.2235  0.1701  0.1304  0.1548  0.1539  0.1661\n456   A065680  0.1398  0.1716  0.1213  0.2394  0.1577  0.1653\n545   A054800  0.1707  0.2426  0.1916  0.1092  0.0996  0.1615\n378   A053610  0.0523  0.1190  0.1915  0.1895  0.2417  0.1569\n176   A023890  0.0266  0.0376  0.3429  0.2095  0.1892  0.1552\n28    A035250  0.1448  0.1448  0.1489  0.1634  0.1661  0.1536\n473   A054450  0.2038  0.2270  0.2117  0.1012  0.0342  0.1531\n733   A057030  0.1827  0.1606  0.1293  0.1808  0.1112  0.1526\n281   A025000  0.1699  0.1640  0.1105  0.1511  0.1457  0.1481\n1079  A025890  0.1807  0.3586  0.0998  0.0770  0.0423  0.1464\n577   A035080  0.1712 -0.0386  0.0143  0.7031  0.0113  0.1449\n118   A064760  0.1637  0.1704  0.1361  0.1201  0.1263  0.1431\n298   A014620  0.1017  0.2125  0.2288  0.1313  0.0491  0.1427",
      "text/html": "<div>\n<style scoped>\n    .dataframe tbody tr th:only-of-type {\n        vertical-align: middle;\n    }\n\n    .dataframe tbody tr th {\n        vertical-align: top;\n    }\n\n    .dataframe thead th {\n        text-align: right;\n    }\n</style>\n<table border=\"1\" class=\"dataframe\">\n  <thead>\n    <tr style=\"text-align: right;\">\n      <th></th>\n      <th>stock_cd</th>\n      <th>2006</th>\n      <th>2007</th>\n      <th>2008</th>\n      <th>2009</th>\n      <th>2010</th>\n      <th>roa5y</th>\n    </tr>\n  </thead>\n  <tbody>\n    <tr>\n      <th>2</th>\n      <td>A035420</td>\n      <td>0.2766</td>\n      <td>0.3454</td>\n      <td>0.3622</td>\n      <td>0.3232</td>\n      <td>0.2790</td>\n      <td>0.3168</td>\n    </tr>\n    <tr>\n      <th>507</th>\n      <td>A072870</td>\n      <td>0.1845</td>\n      <td>0.2244</td>\n      <td>0.2436</td>\n      <td>0.2396</td>\n      <td>0.1763</td>\n      <td>0.2134</td>\n    </tr>\n    <tr>\n      <th>213</th>\n      <td>A002960</td>\n      <td>0.1499</td>\n      <td>0.2100</td>\n      <td>0.1638</td>\n      <td>0.3205</td>\n      <td>0.2282</td>\n      <td>0.2130</td>\n    </tr>\n    <tr>\n      <th>998</th>\n      <td>A032960</td>\n      <td>0.1746</td>\n      <td>0.1851</td>\n      <td>0.1479</td>\n      <td>0.2600</td>\n      <td>0.1771</td>\n      <td>0.1884</td>\n    </tr>\n    <tr>\n      <th>16</th>\n      <td>A033780</td>\n      <td>0.1771</td>\n      <td>0.1662</td>\n      <td>0.1841</td>\n      <td>0.1556</td>\n      <td>0.1772</td>\n      <td>0.1720</td>\n    </tr>\n    <tr>\n      <th>325</th>\n      <td>A018120</td>\n      <td>0.2041</td>\n      <td>0.1974</td>\n      <td>0.1807</td>\n      <td>0.1611</td>\n      <td>0.1189</td>\n      <td>0.1720</td>\n    </tr>\n    <tr>\n      <th>85</th>\n      <td>A058470</td>\n      <td>0.2113</td>\n      <td>0.1908</td>\n      <td>0.1594</td>\n      <td>0.1117</td>\n      <td>0.1721</td>\n      <td>0.1686</td>\n    </tr>\n    <tr>\n      <th>19</th>\n      <td>A010130</td>\n      <td>0.2235</td>\n      <td>0.1701</td>\n      <td>0.1304</td>\n      <td>0.1548</td>\n      <td>0.1539</td>\n      <td>0.1661</td>\n    </tr>\n    <tr>\n      <th>456</th>\n      <td>A065680</td>\n      <td>0.1398</td>\n      <td>0.1716</td>\n      <td>0.1213</td>\n      <td>0.2394</td>\n      <td>0.1577</td>\n      <td>0.1653</td>\n    </tr>\n    <tr>\n      <th>545</th>\n      <td>A054800</td>\n      <td>0.1707</td>\n      <td>0.2426</td>\n      <td>0.1916</td>\n      <td>0.1092</td>\n      <td>0.0996</td>\n      <td>0.1615</td>\n    </tr>\n    <tr>\n      <th>378</th>\n      <td>A053610</td>\n      <td>0.0523</td>\n      <td>0.1190</td>\n      <td>0.1915</td>\n      <td>0.1895</td>\n      <td>0.2417</td>\n      <td>0.1569</td>\n    </tr>\n    <tr>\n      <th>176</th>\n      <td>A023890</td>\n      <td>0.0266</td>\n      <td>0.0376</td>\n      <td>0.3429</td>\n      <td>0.2095</td>\n      <td>0.1892</td>\n      <td>0.1552</td>\n    </tr>\n    <tr>\n      <th>28</th>\n      <td>A035250</td>\n      <td>0.1448</td>\n      <td>0.1448</td>\n      <td>0.1489</td>\n      <td>0.1634</td>\n      <td>0.1661</td>\n      <td>0.1536</td>\n    </tr>\n    <tr>\n      <th>473</th>\n      <td>A054450</td>\n      <td>0.2038</td>\n      <td>0.2270</td>\n      <td>0.2117</td>\n      <td>0.1012</td>\n      <td>0.0342</td>\n      <td>0.1531</td>\n    </tr>\n    <tr>\n      <th>733</th>\n      <td>A057030</td>\n      <td>0.1827</td>\n      <td>0.1606</td>\n      <td>0.1293</td>\n      <td>0.1808</td>\n      <td>0.1112</td>\n      <td>0.1526</td>\n    </tr>\n    <tr>\n      <th>281</th>\n      <td>A025000</td>\n      <td>0.1699</td>\n      <td>0.1640</td>\n      <td>0.1105</td>\n      <td>0.1511</td>\n      <td>0.1457</td>\n      <td>0.1481</td>\n    </tr>\n    <tr>\n      <th>1079</th>\n      <td>A025890</td>\n      <td>0.1807</td>\n      <td>0.3586</td>\n      <td>0.0998</td>\n      <td>0.0770</td>\n      <td>0.0423</td>\n      <td>0.1464</td>\n    </tr>\n    <tr>\n      <th>577</th>\n      <td>A035080</td>\n      <td>0.1712</td>\n      <td>-0.0386</td>\n      <td>0.0143</td>\n      <td>0.7031</td>\n      <td>0.0113</td>\n      <td>0.1449</td>\n    </tr>\n    <tr>\n      <th>118</th>\n      <td>A064760</td>\n      <td>0.1637</td>\n      <td>0.1704</td>\n      <td>0.1361</td>\n      <td>0.1201</td>\n      <td>0.1263</td>\n      <td>0.1431</td>\n    </tr>\n    <tr>\n      <th>298</th>\n      <td>A014620</td>\n      <td>0.1017</td>\n      <td>0.2125</td>\n      <td>0.2288</td>\n      <td>0.1313</td>\n      <td>0.0491</td>\n      <td>0.1427</td>\n    </tr>\n  </tbody>\n</table>\n</div>"
     },
     "metadata": {},
     "execution_count": 20
    }
   ],
   "source": [
    "kor_ticker = listed_stock_filter_5y(2010)\n",
    "kor_fs = roa5y_screener(2010)\n",
    "roa5y_result = pd.merge(kor_ticker, kor_fs, how='left', on='stock_cd')\n",
    "roa5y_result = roa5y_result.sort_values('roa5y', ascending=False)\n",
    "roa5y_result.head(20)"
   ]
  },
  {
   "cell_type": "code",
   "execution_count": 21,
   "metadata": {},
   "outputs": [
    {
     "output_type": "execute_result",
     "data": {
      "text/plain": "     stock_cd    2006    2007    2008    2009    2010  roic5y\n733   A057030  2.0221  1.1753  1.6576  1.3509  0.9513  1.4031\n662   A036120  0.6742  0.7269  6.7784  0.3971  0.5404  1.1725\n2     A035420  0.8463  0.8099  1.4416  0.8688  0.8786  0.9562\n507   A072870  0.7819  0.8321  0.8461  1.1106  1.1245  0.9335\n1145  A025850  0.2619  1.2255  3.5298  0.5531  0.3300  0.9227\n611   A039340  0.9182  0.9315  0.8580  1.2436  0.5982  0.8988\n363   A035510  0.5046  0.7108  0.8072  2.0485  0.5045  0.8443\n387   A004960  3.1423  0.6851  0.1676  0.0488  0.9794  0.7607\n37    A012750  0.5835  0.8429  0.9550  0.6584  0.7793  0.7589\n421   A036190  0.2999  0.6614  1.0000  0.7571  1.2099  0.7576\n998   A032960  0.5945  0.5415  0.7447  1.3530  0.5540  0.7341\n77    A056190  1.7076  0.7783  0.5924  0.1338  0.7195  0.7176\n424   A001250  0.5187  0.9830  0.7446  1.5680  0.0582  0.7019\n978   A065500  1.4580  2.2712  0.5438  0.1346 -0.1043  0.6603\n53    A030000  1.7962  0.3783  0.3742  0.4011  0.4270  0.6031\n561   A010960  1.5812  0.6676  0.4934  0.3609  0.1971  0.5996\n213   A002960  0.3220  0.5959  0.3708  0.9343  0.8431  0.5946\n12    A036570  0.3656  0.2660  0.2109  1.0270  1.3331  0.5817\n28    A035250  0.4305  0.6066  0.6431  0.5981  0.5618  0.5662\n117   A028150  0.5603  0.5166  0.4967  0.7333  0.3719  0.5314",
      "text/html": "<div>\n<style scoped>\n    .dataframe tbody tr th:only-of-type {\n        vertical-align: middle;\n    }\n\n    .dataframe tbody tr th {\n        vertical-align: top;\n    }\n\n    .dataframe thead th {\n        text-align: right;\n    }\n</style>\n<table border=\"1\" class=\"dataframe\">\n  <thead>\n    <tr style=\"text-align: right;\">\n      <th></th>\n      <th>stock_cd</th>\n      <th>2006</th>\n      <th>2007</th>\n      <th>2008</th>\n      <th>2009</th>\n      <th>2010</th>\n      <th>roic5y</th>\n    </tr>\n  </thead>\n  <tbody>\n    <tr>\n      <th>733</th>\n      <td>A057030</td>\n      <td>2.0221</td>\n      <td>1.1753</td>\n      <td>1.6576</td>\n      <td>1.3509</td>\n      <td>0.9513</td>\n      <td>1.4031</td>\n    </tr>\n    <tr>\n      <th>662</th>\n      <td>A036120</td>\n      <td>0.6742</td>\n      <td>0.7269</td>\n      <td>6.7784</td>\n      <td>0.3971</td>\n      <td>0.5404</td>\n      <td>1.1725</td>\n    </tr>\n    <tr>\n      <th>2</th>\n      <td>A035420</td>\n      <td>0.8463</td>\n      <td>0.8099</td>\n      <td>1.4416</td>\n      <td>0.8688</td>\n      <td>0.8786</td>\n      <td>0.9562</td>\n    </tr>\n    <tr>\n      <th>507</th>\n      <td>A072870</td>\n      <td>0.7819</td>\n      <td>0.8321</td>\n      <td>0.8461</td>\n      <td>1.1106</td>\n      <td>1.1245</td>\n      <td>0.9335</td>\n    </tr>\n    <tr>\n      <th>1145</th>\n      <td>A025850</td>\n      <td>0.2619</td>\n      <td>1.2255</td>\n      <td>3.5298</td>\n      <td>0.5531</td>\n      <td>0.3300</td>\n      <td>0.9227</td>\n    </tr>\n    <tr>\n      <th>611</th>\n      <td>A039340</td>\n      <td>0.9182</td>\n      <td>0.9315</td>\n      <td>0.8580</td>\n      <td>1.2436</td>\n      <td>0.5982</td>\n      <td>0.8988</td>\n    </tr>\n    <tr>\n      <th>363</th>\n      <td>A035510</td>\n      <td>0.5046</td>\n      <td>0.7108</td>\n      <td>0.8072</td>\n      <td>2.0485</td>\n      <td>0.5045</td>\n      <td>0.8443</td>\n    </tr>\n    <tr>\n      <th>387</th>\n      <td>A004960</td>\n      <td>3.1423</td>\n      <td>0.6851</td>\n      <td>0.1676</td>\n      <td>0.0488</td>\n      <td>0.9794</td>\n      <td>0.7607</td>\n    </tr>\n    <tr>\n      <th>37</th>\n      <td>A012750</td>\n      <td>0.5835</td>\n      <td>0.8429</td>\n      <td>0.9550</td>\n      <td>0.6584</td>\n      <td>0.7793</td>\n      <td>0.7589</td>\n    </tr>\n    <tr>\n      <th>421</th>\n      <td>A036190</td>\n      <td>0.2999</td>\n      <td>0.6614</td>\n      <td>1.0000</td>\n      <td>0.7571</td>\n      <td>1.2099</td>\n      <td>0.7576</td>\n    </tr>\n    <tr>\n      <th>998</th>\n      <td>A032960</td>\n      <td>0.5945</td>\n      <td>0.5415</td>\n      <td>0.7447</td>\n      <td>1.3530</td>\n      <td>0.5540</td>\n      <td>0.7341</td>\n    </tr>\n    <tr>\n      <th>77</th>\n      <td>A056190</td>\n      <td>1.7076</td>\n      <td>0.7783</td>\n      <td>0.5924</td>\n      <td>0.1338</td>\n      <td>0.7195</td>\n      <td>0.7176</td>\n    </tr>\n    <tr>\n      <th>424</th>\n      <td>A001250</td>\n      <td>0.5187</td>\n      <td>0.9830</td>\n      <td>0.7446</td>\n      <td>1.5680</td>\n      <td>0.0582</td>\n      <td>0.7019</td>\n    </tr>\n    <tr>\n      <th>978</th>\n      <td>A065500</td>\n      <td>1.4580</td>\n      <td>2.2712</td>\n      <td>0.5438</td>\n      <td>0.1346</td>\n      <td>-0.1043</td>\n      <td>0.6603</td>\n    </tr>\n    <tr>\n      <th>53</th>\n      <td>A030000</td>\n      <td>1.7962</td>\n      <td>0.3783</td>\n      <td>0.3742</td>\n      <td>0.4011</td>\n      <td>0.4270</td>\n      <td>0.6031</td>\n    </tr>\n    <tr>\n      <th>561</th>\n      <td>A010960</td>\n      <td>1.5812</td>\n      <td>0.6676</td>\n      <td>0.4934</td>\n      <td>0.3609</td>\n      <td>0.1971</td>\n      <td>0.5996</td>\n    </tr>\n    <tr>\n      <th>213</th>\n      <td>A002960</td>\n      <td>0.3220</td>\n      <td>0.5959</td>\n      <td>0.3708</td>\n      <td>0.9343</td>\n      <td>0.8431</td>\n      <td>0.5946</td>\n    </tr>\n    <tr>\n      <th>12</th>\n      <td>A036570</td>\n      <td>0.3656</td>\n      <td>0.2660</td>\n      <td>0.2109</td>\n      <td>1.0270</td>\n      <td>1.3331</td>\n      <td>0.5817</td>\n    </tr>\n    <tr>\n      <th>28</th>\n      <td>A035250</td>\n      <td>0.4305</td>\n      <td>0.6066</td>\n      <td>0.6431</td>\n      <td>0.5981</td>\n      <td>0.5618</td>\n      <td>0.5662</td>\n    </tr>\n    <tr>\n      <th>117</th>\n      <td>A028150</td>\n      <td>0.5603</td>\n      <td>0.5166</td>\n      <td>0.4967</td>\n      <td>0.7333</td>\n      <td>0.3719</td>\n      <td>0.5314</td>\n    </tr>\n  </tbody>\n</table>\n</div>"
     },
     "metadata": {},
     "execution_count": 21
    }
   ],
   "source": [
    "kor_ticker = listed_stock_filter_5y(2010)\n",
    "kor_fs = roic5y_screener(2010)\n",
    "roic5y_result = pd.merge(kor_ticker, kor_fs, how='left', on='stock_cd')\n",
    "roic5y_result = roic5y_result.sort_values('roic5y', ascending=False)\n",
    "roic5y_result.head(20)"
   ]
  }
 ],
 "metadata": {
  "language_info": {
   "name": "python",
   "codemirror_mode": {
    "name": "ipython",
    "version": 3
   },
   "version": "3.7.7-final"
  },
  "orig_nbformat": 2,
  "file_extension": ".py",
  "mimetype": "text/x-python",
  "name": "python",
  "npconvert_exporter": "python",
  "pygments_lexer": "ipython3",
  "version": 3,
  "kernelspec": {
   "name": "python37764bitdatasciencepipenv0ceac9c42f2c4450b1a1f470d54ae77b",
   "display_name": "Python 3.7.7 64-bit ('datascience': pipenv)"
  }
 },
 "nbformat": 4,
 "nbformat_minor": 2
}